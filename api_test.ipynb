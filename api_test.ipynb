{
 "cells": [
  {
   "cell_type": "code",
   "execution_count": 8,
   "metadata": {},
   "outputs": [],
   "source": [
    "# imports\n",
    "import pandas as pd\n",
    "import requests\n",
    "import json\n",
    "import matplotlib.pyplot as plt\n",
    "\n",
    "from keys import eia_api_key"
   ]
  },
  {
   "cell_type": "code",
   "execution_count": 45,
   "metadata": {},
   "outputs": [],
   "source": [
    "api_url = \"https://api.eia.gov/v2/electricity/retail-sales/data\""
   ]
  },
  {
   "cell_type": "code",
   "execution_count": 63,
   "metadata": {},
   "outputs": [],
   "source": [
    "url = api_url + \"?api_key=\" + eia_api_key() + \"&data[0]=sales\"\n",
    "\n",
    "response = requests.get(url)\n",
    "\n",
    "json_object = response.json()"
   ]
  },
  {
   "cell_type": "code",
   "execution_count": 64,
   "metadata": {},
   "outputs": [],
   "source": [
    "# convert the json to a data frame with pandas using the information stored in 'data'\n",
    "df = pd.DataFrame(\n",
    "        [\n",
    "            [\n",
    "                x[\"period\"],\n",
    "                x[\"stateid\"],\n",
    "                x[\"stateDescription\"],\n",
    "                x[\"sectorid\"],\n",
    "                x[\"sectorName\"],\n",
    "                x[\"sales\"],\n",
    "                x[\"sales-units\"],\n",
    "            ]\n",
    "            for x in json_object[\"response\"][\"data\"]\n",
    "        ],\n",
    "        columns=[\"period\", \"stateid\", \"stateDescription\", \"sectorid\", \"sectorname\", \"sales\", \"sales-units\"],\n",
    "    )\n",
    "\n",
    "# turn the response into a dataframe\n",
    "# print(response.json())"
   ]
  },
  {
   "cell_type": "code",
   "execution_count": 65,
   "metadata": {},
   "outputs": [
    {
     "data": {
      "text/html": [
       "<div>\n",
       "<style scoped>\n",
       "    .dataframe tbody tr th:only-of-type {\n",
       "        vertical-align: middle;\n",
       "    }\n",
       "\n",
       "    .dataframe tbody tr th {\n",
       "        vertical-align: top;\n",
       "    }\n",
       "\n",
       "    .dataframe thead th {\n",
       "        text-align: right;\n",
       "    }\n",
       "</style>\n",
       "<table border=\"1\" class=\"dataframe\">\n",
       "  <thead>\n",
       "    <tr style=\"text-align: right;\">\n",
       "      <th></th>\n",
       "      <th>period</th>\n",
       "      <th>stateid</th>\n",
       "      <th>stateDescription</th>\n",
       "      <th>sectorid</th>\n",
       "      <th>sectorname</th>\n",
       "      <th>sales</th>\n",
       "      <th>sales-units</th>\n",
       "    </tr>\n",
       "  </thead>\n",
       "  <tbody>\n",
       "    <tr>\n",
       "      <th>3139</th>\n",
       "      <td>2012-06</td>\n",
       "      <td>ME</td>\n",
       "      <td>Maine</td>\n",
       "      <td>OTH</td>\n",
       "      <td>other</td>\n",
       "      <td>NaN</td>\n",
       "      <td>million kilowatthours</td>\n",
       "    </tr>\n",
       "    <tr>\n",
       "      <th>4150</th>\n",
       "      <td>2005-04</td>\n",
       "      <td>IL</td>\n",
       "      <td>Illinois</td>\n",
       "      <td>IND</td>\n",
       "      <td>industrial</td>\n",
       "      <td>3701.46351</td>\n",
       "      <td>million kilowatthours</td>\n",
       "    </tr>\n",
       "    <tr>\n",
       "      <th>1203</th>\n",
       "      <td>2018-01</td>\n",
       "      <td>ID</td>\n",
       "      <td>Idaho</td>\n",
       "      <td>ALL</td>\n",
       "      <td>all sectors</td>\n",
       "      <td>1972.94639</td>\n",
       "      <td>million kilowatthours</td>\n",
       "    </tr>\n",
       "    <tr>\n",
       "      <th>248</th>\n",
       "      <td>2015-01</td>\n",
       "      <td>IN</td>\n",
       "      <td>Indiana</td>\n",
       "      <td>RES</td>\n",
       "      <td>residential</td>\n",
       "      <td>3645.43934</td>\n",
       "      <td>million kilowatthours</td>\n",
       "    </tr>\n",
       "    <tr>\n",
       "      <th>748</th>\n",
       "      <td>2009-05</td>\n",
       "      <td>SAT</td>\n",
       "      <td>South Atlantic</td>\n",
       "      <td>ALL</td>\n",
       "      <td>all sectors</td>\n",
       "      <td>59950.23288</td>\n",
       "      <td>million kilowatthours</td>\n",
       "    </tr>\n",
       "  </tbody>\n",
       "</table>\n",
       "</div>"
      ],
      "text/plain": [
       "       period stateid stateDescription sectorid   sectorname        sales  \\\n",
       "3139  2012-06      ME            Maine      OTH        other          NaN   \n",
       "4150  2005-04      IL         Illinois      IND   industrial   3701.46351   \n",
       "1203  2018-01      ID            Idaho      ALL  all sectors   1972.94639   \n",
       "248   2015-01      IN          Indiana      RES  residential   3645.43934   \n",
       "748   2009-05     SAT   South Atlantic      ALL  all sectors  59950.23288   \n",
       "\n",
       "                sales-units  \n",
       "3139  million kilowatthours  \n",
       "4150  million kilowatthours  \n",
       "1203  million kilowatthours  \n",
       "248   million kilowatthours  \n",
       "748   million kilowatthours  "
      ]
     },
     "execution_count": 65,
     "metadata": {},
     "output_type": "execute_result"
    }
   ],
   "source": [
    "df.sample(5)"
   ]
  },
  {
   "cell_type": "code",
   "execution_count": 66,
   "metadata": {},
   "outputs": [
    {
     "data": {
      "text/plain": [
       "million kilowatthours    5000\n",
       "Name: sales-units, dtype: int64"
      ]
     },
     "execution_count": 66,
     "metadata": {},
     "output_type": "execute_result"
    }
   ],
   "source": [
    "df[\"sales-units\"].value_counts()"
   ]
  },
  {
   "cell_type": "code",
   "execution_count": 67,
   "metadata": {},
   "outputs": [
    {
     "data": {
      "text/plain": [
       "(5000, 7)"
      ]
     },
     "execution_count": 67,
     "metadata": {},
     "output_type": "execute_result"
    }
   ],
   "source": [
    "df.shape"
   ]
  },
  {
   "cell_type": "code",
   "execution_count": 75,
   "metadata": {},
   "outputs": [],
   "source": [
    "# convert period to datetime\n",
    "df[\"period\"] = pd.to_datetime(df[\"period\"], format=\"%Y-%m\")\n",
    "df['year'] = df['period'].dt.year\n",
    "df['month'] = df['period'].dt.month"
   ]
  },
  {
   "cell_type": "code",
   "execution_count": 76,
   "metadata": {},
   "outputs": [
    {
     "data": {
      "text/plain": [
       "array([[<AxesSubplot: title={'center': 'year'}>]], dtype=object)"
      ]
     },
     "execution_count": 76,
     "metadata": {},
     "output_type": "execute_result"
    },
    {
     "data": {
      "image/png": "[encoded data removed]",
      "text/plain": [
       "<Figure size 640x480 with 1 Axes>"
      ]
     },
     "metadata": {},
     "output_type": "display_data"
    }
   ],
   "source": [
    "df.hist(\"year\")"
   ]
  },
  {
   "cell_type": "code",
   "execution_count": 80,
   "metadata": {},
   "outputs": [
    {
     "data": {
      "text/html": [
       "<div>\n",
       "<style scoped>\n",
       "    .dataframe tbody tr th:only-of-type {\n",
       "        vertical-align: middle;\n",
       "    }\n",
       "\n",
       "    .dataframe tbody tr th {\n",
       "        vertical-align: top;\n",
       "    }\n",
       "\n",
       "    .dataframe thead th {\n",
       "        text-align: right;\n",
       "    }\n",
       "</style>\n",
       "<table border=\"1\" class=\"dataframe\">\n",
       "  <thead>\n",
       "    <tr style=\"text-align: right;\">\n",
       "      <th></th>\n",
       "      <th></th>\n",
       "      <th>sales</th>\n",
       "    </tr>\n",
       "    <tr>\n",
       "      <th>year</th>\n",
       "      <th>month</th>\n",
       "      <th></th>\n",
       "    </tr>\n",
       "  </thead>\n",
       "  <tbody>\n",
       "    <tr>\n",
       "      <th>2001</th>\n",
       "      <th>5</th>\n",
       "      <td>7.846405e+05</td>\n",
       "    </tr>\n",
       "    <tr>\n",
       "      <th rowspan=\"3\" valign=\"top\">2003</th>\n",
       "      <th>5</th>\n",
       "      <td>1.161422e+06</td>\n",
       "    </tr>\n",
       "    <tr>\n",
       "      <th>6</th>\n",
       "      <td>4.686367e+05</td>\n",
       "    </tr>\n",
       "    <tr>\n",
       "      <th>7</th>\n",
       "      <td>1.339071e+05</td>\n",
       "    </tr>\n",
       "    <tr>\n",
       "      <th>2004</th>\n",
       "      <th>6</th>\n",
       "      <td>5.549852e+03</td>\n",
       "    </tr>\n",
       "    <tr>\n",
       "      <th rowspan=\"2\" valign=\"top\">2005</th>\n",
       "      <th>4</th>\n",
       "      <td>1.396158e+05</td>\n",
       "    </tr>\n",
       "    <tr>\n",
       "      <th>6</th>\n",
       "      <td>1.124016e+06</td>\n",
       "    </tr>\n",
       "    <tr>\n",
       "      <th rowspan=\"3\" valign=\"top\">2006</th>\n",
       "      <th>1</th>\n",
       "      <td>1.263622e+06</td>\n",
       "    </tr>\n",
       "    <tr>\n",
       "      <th>2</th>\n",
       "      <td>1.229697e+06</td>\n",
       "    </tr>\n",
       "    <tr>\n",
       "      <th>3</th>\n",
       "      <td>2.503611e+05</td>\n",
       "    </tr>\n",
       "    <tr>\n",
       "      <th rowspan=\"5\" valign=\"top\">2007</th>\n",
       "      <th>1</th>\n",
       "      <td>7.498924e+03</td>\n",
       "    </tr>\n",
       "    <tr>\n",
       "      <th>3</th>\n",
       "      <td>1.893696e+05</td>\n",
       "    </tr>\n",
       "    <tr>\n",
       "      <th>4</th>\n",
       "      <td>5.944204e+04</td>\n",
       "    </tr>\n",
       "    <tr>\n",
       "      <th>9</th>\n",
       "      <td>8.875271e+05</td>\n",
       "    </tr>\n",
       "    <tr>\n",
       "      <th>10</th>\n",
       "      <td>3.809213e+05</td>\n",
       "    </tr>\n",
       "    <tr>\n",
       "      <th rowspan=\"2\" valign=\"top\">2008</th>\n",
       "      <th>1</th>\n",
       "      <td>1.015760e+05</td>\n",
       "    </tr>\n",
       "    <tr>\n",
       "      <th>2</th>\n",
       "      <td>6.726377e+04</td>\n",
       "    </tr>\n",
       "    <tr>\n",
       "      <th rowspan=\"3\" valign=\"top\">2009</th>\n",
       "      <th>1</th>\n",
       "      <td>2.018930e+05</td>\n",
       "    </tr>\n",
       "    <tr>\n",
       "      <th>3</th>\n",
       "      <td>8.672491e+05</td>\n",
       "    </tr>\n",
       "    <tr>\n",
       "      <th>4</th>\n",
       "      <td>3.772853e+03</td>\n",
       "    </tr>\n",
       "  </tbody>\n",
       "</table>\n",
       "</div>"
      ],
      "text/plain": [
       "                   sales\n",
       "year month              \n",
       "2001 5      7.846405e+05\n",
       "2003 5      1.161422e+06\n",
       "     6      4.686367e+05\n",
       "     7      1.339071e+05\n",
       "2004 6      5.549852e+03\n",
       "2005 4      1.396158e+05\n",
       "     6      1.124016e+06\n",
       "2006 1      1.263622e+06\n",
       "     2      1.229697e+06\n",
       "     3      2.503611e+05\n",
       "2007 1      7.498924e+03\n",
       "     3      1.893696e+05\n",
       "     4      5.944204e+04\n",
       "     9      8.875271e+05\n",
       "     10     3.809213e+05\n",
       "2008 1      1.015760e+05\n",
       "     2      6.726377e+04\n",
       "2009 1      2.018930e+05\n",
       "     3      8.672491e+05\n",
       "     4      3.772853e+03"
      ]
     },
     "execution_count": 80,
     "metadata": {},
     "output_type": "execute_result"
    }
   ],
   "source": [
    "df2 = df.groupby([\"year\", \"month\"]).sum(numeric_only=True)\n",
    "df2.head(20)"
   ]
  },
  {
   "cell_type": "code",
   "execution_count": 81,
   "metadata": {},
   "outputs": [
    {
     "data": {
      "text/plain": [
       "<AxesSubplot: xlabel='year,month'>"
      ]
     },
     "execution_count": 81,
     "metadata": {},
     "output_type": "execute_result"
    },
    {
     "data": {
      "image/png": "[encoded data removed]",
      "text/plain": [
       "<Figure size 640x480 with 1 Axes>"
      ]
     },
     "metadata": {},
     "output_type": "display_data"
    }
   ],
   "source": [
    "df2.plot()"
   ]
  },
  {
   "cell_type": "code",
   "execution_count": null,
   "metadata": {},
   "outputs": [],
   "source": []
  }
 ],
 "metadata": {
  "kernelspec": {
   "display_name": "Python 3.9.6 ('.venv': venv)",
   "language": "python",
   "name": "python3"
  },
  "language_info": {
   "codemirror_mode": {
    "name": "ipython",
    "version": 3
   },
   "file_extension": ".py",
   "mimetype": "text/x-python",
   "name": "python",
   "nbconvert_exporter": "python",
   "pygments_lexer": "ipython3",
   "version": "3.9.6"
  },
  "orig_nbformat": 4,
  "vscode": {
   "interpreter": {
    "hash": "6348038c22bbb1f5066bdf2baff95f32efff54813dc5babbc7f04290435957a2"
   }
  }
 },
 "nbformat": 4,
 "nbformat_minor": 2
}
