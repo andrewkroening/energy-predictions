{
 "cells": [
  {
   "cell_type": "markdown",
   "metadata": {},
   "source": [
    "# Set-up"
   ]
  },
  {
   "cell_type": "code",
   "execution_count": 135,
   "metadata": {},
   "outputs": [],
   "source": [
    "# imports\n",
    "import pandas as pd\n",
    "import altair as alt\n"
   ]
  },
  {
   "cell_type": "markdown",
   "metadata": {},
   "source": [
    "# Data Cleaning"
   ]
  },
  {
   "cell_type": "markdown",
   "metadata": {},
   "source": [
    "#### First, we'll make a clean dataframe with years as the index from 1950 to 2022"
   ]
  },
  {
   "cell_type": "code",
   "execution_count": 136,
   "metadata": {},
   "outputs": [],
   "source": [
    "# make the empty dataframe with years from 1950 to 2022 as the index\n",
    "df = pd.DataFrame(index=range(1950, 2023))\n",
    "df[\"Year\"] = df.index\n",
    "# convert the year column to datetime\n",
    "df[\"Year\"] = pd.to_datetime(df[\"Year\"], format=\"%Y\")\n"
   ]
  },
  {
   "cell_type": "markdown",
   "metadata": {},
   "source": [
    "#### Next, we'll need to configure the US census data by taking the overall US population and smoothing for missing years in between census reports"
   ]
  },
  {
   "cell_type": "code",
   "execution_count": 137,
   "metadata": {},
   "outputs": [
    {
     "data": {
      "text/html": [
       "<div>\n",
       "<style scoped>\n",
       "    .dataframe tbody tr th:only-of-type {\n",
       "        vertical-align: middle;\n",
       "    }\n",
       "\n",
       "    .dataframe tbody tr th {\n",
       "        vertical-align: top;\n",
       "    }\n",
       "\n",
       "    .dataframe thead th {\n",
       "        text-align: right;\n",
       "    }\n",
       "</style>\n",
       "<table border=\"1\" class=\"dataframe\">\n",
       "  <thead>\n",
       "    <tr style=\"text-align: right;\">\n",
       "      <th></th>\n",
       "      <th>Year</th>\n",
       "      <th>Population</th>\n",
       "    </tr>\n",
       "  </thead>\n",
       "  <tbody>\n",
       "    <tr>\n",
       "      <th>4</th>\n",
       "      <td>1950-01-01</td>\n",
       "      <td>151325798</td>\n",
       "    </tr>\n",
       "    <tr>\n",
       "      <th>5</th>\n",
       "      <td>1960-01-01</td>\n",
       "      <td>179323175</td>\n",
       "    </tr>\n",
       "    <tr>\n",
       "      <th>6</th>\n",
       "      <td>1970-01-01</td>\n",
       "      <td>203211926</td>\n",
       "    </tr>\n",
       "    <tr>\n",
       "      <th>7</th>\n",
       "      <td>1980-01-01</td>\n",
       "      <td>226545805</td>\n",
       "    </tr>\n",
       "    <tr>\n",
       "      <th>8</th>\n",
       "      <td>1990-01-01</td>\n",
       "      <td>248709873</td>\n",
       "    </tr>\n",
       "    <tr>\n",
       "      <th>9</th>\n",
       "      <td>2000-01-01</td>\n",
       "      <td>281421906</td>\n",
       "    </tr>\n",
       "    <tr>\n",
       "      <th>10</th>\n",
       "      <td>2010-01-01</td>\n",
       "      <td>308745538</td>\n",
       "    </tr>\n",
       "    <tr>\n",
       "      <th>11</th>\n",
       "      <td>2020-01-01</td>\n",
       "      <td>331449281</td>\n",
       "    </tr>\n",
       "  </tbody>\n",
       "</table>\n",
       "</div>"
      ],
      "text/plain": [
       "         Year  Population\n",
       "4  1950-01-01   151325798\n",
       "5  1960-01-01   179323175\n",
       "6  1970-01-01   203211926\n",
       "7  1980-01-01   226545805\n",
       "8  1990-01-01   248709873\n",
       "9  2000-01-01   281421906\n",
       "10 2010-01-01   308745538\n",
       "11 2020-01-01   331449281"
      ]
     },
     "execution_count": 137,
     "metadata": {},
     "output_type": "execute_result"
    }
   ],
   "source": [
    "# ingest the census data\n",
    "census_df = pd.read_excel(\n",
    "    \"00_source_data/population-change-data-table.xlsx\", skiprows=3\n",
    ")\n",
    "# keep only census columns\n",
    "census_df = census_df[\n",
    "    [\n",
    "        \"Area\",\n",
    "        \"1910 Census\",\n",
    "        \"1920 Census\",\n",
    "        \"1930 Census\",\n",
    "        \"1940 Census\",\n",
    "        \"1950 Census\",\n",
    "        \"1960 Census\",\n",
    "        \"1970 Census\",\n",
    "        \"1980 Census\",\n",
    "        \"1990 Census\",\n",
    "        \"2000 Census\",\n",
    "        \"2010 Census\",\n",
    "        \"2020 Census\",\n",
    "    ]\n",
    "]\n",
    "# rename the mispelled United States1 to US\n",
    "census_df.loc[census_df[\"Area\"] == \"United States1\", \"Area\"] = \"US\"\n",
    "# Pull out only the US row\n",
    "census_df = census_df[census_df[\"Area\"] == \"US\"]\n",
    "# pivot the census data\n",
    "census_df = census_df.melt(id_vars=[\"Area\"], var_name=\"Year\", value_name=\"Population\")\n",
    "# drop the Area column\n",
    "census_df = census_df.drop(columns=[\"Area\"])\n",
    "# convert the year column to a datetime\n",
    "census_df[\"Year\"] = pd.to_datetime(census_df[\"Year\"], format=\"%Y Census\")\n",
    "# convert the population column to an integer\n",
    "census_df[\"Population\"] = census_df[\"Population\"].astype(int)\n",
    "# filter for just the years after 1949\n",
    "census_df = census_df[census_df[\"Year\"] > \"1949-12-31\"]\n",
    "\n",
    "census_df\n"
   ]
  },
  {
   "cell_type": "markdown",
   "metadata": {},
   "source": [
    "#### Next we will pull in energy production data from government"
   ]
  },
  {
   "cell_type": "code",
   "execution_count": 138,
   "metadata": {},
   "outputs": [
    {
     "data": {
      "text/html": [
       "<div>\n",
       "<style scoped>\n",
       "    .dataframe tbody tr th:only-of-type {\n",
       "        vertical-align: middle;\n",
       "    }\n",
       "\n",
       "    .dataframe tbody tr th {\n",
       "        vertical-align: top;\n",
       "    }\n",
       "\n",
       "    .dataframe thead th {\n",
       "        text-align: right;\n",
       "    }\n",
       "</style>\n",
       "<table border=\"1\" class=\"dataframe\">\n",
       "  <thead>\n",
       "    <tr style=\"text-align: right;\">\n",
       "      <th></th>\n",
       "      <th>Energy_Prod</th>\n",
       "    </tr>\n",
       "    <tr>\n",
       "      <th>Year</th>\n",
       "      <th></th>\n",
       "    </tr>\n",
       "  </thead>\n",
       "  <tbody>\n",
       "    <tr>\n",
       "      <th>1965-01-01</th>\n",
       "      <td>151.889730</td>\n",
       "    </tr>\n",
       "    <tr>\n",
       "      <th>2019-01-01</th>\n",
       "      <td>592.040642</td>\n",
       "    </tr>\n",
       "    <tr>\n",
       "      <th>1992-01-01</th>\n",
       "      <td>406.528384</td>\n",
       "    </tr>\n",
       "    <tr>\n",
       "      <th>1987-01-01</th>\n",
       "      <td>395.530432</td>\n",
       "    </tr>\n",
       "    <tr>\n",
       "      <th>1980-01-01</th>\n",
       "      <td>397.403944</td>\n",
       "    </tr>\n",
       "    <tr>\n",
       "      <th>2015-01-01</th>\n",
       "      <td>513.102810</td>\n",
       "    </tr>\n",
       "    <tr>\n",
       "      <th>2000-01-01</th>\n",
       "      <td>411.899216</td>\n",
       "    </tr>\n",
       "    <tr>\n",
       "      <th>1973-01-01</th>\n",
       "      <td>379.355858</td>\n",
       "    </tr>\n",
       "    <tr>\n",
       "      <th>1978-01-01</th>\n",
       "      <td>372.313276</td>\n",
       "    </tr>\n",
       "    <tr>\n",
       "      <th>2016-01-01</th>\n",
       "      <td>489.206290</td>\n",
       "    </tr>\n",
       "  </tbody>\n",
       "</table>\n",
       "</div>"
      ],
      "text/plain": [
       "            Energy_Prod\n",
       "Year                   \n",
       "1965-01-01   151.889730\n",
       "2019-01-01   592.040642\n",
       "1992-01-01   406.528384\n",
       "1987-01-01   395.530432\n",
       "1980-01-01   397.403944\n",
       "2015-01-01   513.102810\n",
       "2000-01-01   411.899216\n",
       "1973-01-01   379.355858\n",
       "1978-01-01   372.313276\n",
       "2016-01-01   489.206290"
      ]
     },
     "execution_count": 138,
     "metadata": {},
     "output_type": "execute_result"
    }
   ],
   "source": [
    "energy_df = pd.read_csv(\"00_source_data/MER_T01_02.csv\")\n",
    "# split the YYYYMM column into two columns\n",
    "energy_df[\"Year\"] = energy_df[\"YYYYMM\"].astype(str).str[:4]\n",
    "energy_df[\"Month\"] = energy_df[\"YYYYMM\"].astype(str).str[4:]\n",
    "# convert the year columns to datetime\n",
    "energy_df[\"Year\"] = pd.to_datetime(energy_df[\"Year\"], format=\"%Y\")\n",
    "# keep the Value and Year columns\n",
    "energy_df = energy_df[[\"Value\", \"Year\"]]\n",
    "# Rename the value column to energy_prod\n",
    "energy_df = energy_df.rename(columns={\"Value\": \"Energy_Prod\"})\n",
    "# drop the rows with Not Available\n",
    "energy_df = energy_df[energy_df[\"Energy_Prod\"] != \"Not Available\"]\n",
    "# convert Energy_Prod to a float\n",
    "energy_df[\"Energy_Prod\"] = energy_df[\"Energy_Prod\"].astype(float)\n",
    "# groupby year and sum the energy\n",
    "energy_df = energy_df.groupby(\"Year\").sum()\n",
    "\n",
    "energy_df.sample(10)\n"
   ]
  },
  {
   "cell_type": "markdown",
   "metadata": {},
   "source": [
    "#### Next is energy consumption"
   ]
  },
  {
   "cell_type": "code",
   "execution_count": 139,
   "metadata": {},
   "outputs": [
    {
     "data": {
      "text/html": [
       "<div>\n",
       "<style scoped>\n",
       "    .dataframe tbody tr th:only-of-type {\n",
       "        vertical-align: middle;\n",
       "    }\n",
       "\n",
       "    .dataframe tbody tr th {\n",
       "        vertical-align: top;\n",
       "    }\n",
       "\n",
       "    .dataframe thead th {\n",
       "        text-align: right;\n",
       "    }\n",
       "</style>\n",
       "<table border=\"1\" class=\"dataframe\">\n",
       "  <thead>\n",
       "    <tr style=\"text-align: right;\">\n",
       "      <th></th>\n",
       "      <th>Energy_Consume</th>\n",
       "    </tr>\n",
       "    <tr>\n",
       "      <th>Year</th>\n",
       "      <th></th>\n",
       "    </tr>\n",
       "  </thead>\n",
       "  <tbody>\n",
       "    <tr>\n",
       "      <th>2014-01-01</th>\n",
       "      <td>572.426189</td>\n",
       "    </tr>\n",
       "    <tr>\n",
       "      <th>1993-01-01</th>\n",
       "      <td>510.344490</td>\n",
       "    </tr>\n",
       "    <tr>\n",
       "      <th>2018-01-01</th>\n",
       "      <td>590.034181</td>\n",
       "    </tr>\n",
       "    <tr>\n",
       "      <th>1983-01-01</th>\n",
       "      <td>430.636912</td>\n",
       "    </tr>\n",
       "    <tr>\n",
       "      <th>2009-01-01</th>\n",
       "      <td>546.530614</td>\n",
       "    </tr>\n",
       "    <tr>\n",
       "      <th>1989-01-01</th>\n",
       "      <td>497.027542</td>\n",
       "    </tr>\n",
       "    <tr>\n",
       "      <th>1999-01-01</th>\n",
       "      <td>563.540187</td>\n",
       "    </tr>\n",
       "    <tr>\n",
       "      <th>1965-01-01</th>\n",
       "      <td>161.835917</td>\n",
       "    </tr>\n",
       "    <tr>\n",
       "      <th>1963-01-01</th>\n",
       "      <td>148.734470</td>\n",
       "    </tr>\n",
       "    <tr>\n",
       "      <th>1973-01-01</th>\n",
       "      <td>451.912282</td>\n",
       "    </tr>\n",
       "  </tbody>\n",
       "</table>\n",
       "</div>"
      ],
      "text/plain": [
       "            Energy_Consume\n",
       "Year                      \n",
       "2014-01-01      572.426189\n",
       "1993-01-01      510.344490\n",
       "2018-01-01      590.034181\n",
       "1983-01-01      430.636912\n",
       "2009-01-01      546.530614\n",
       "1989-01-01      497.027542\n",
       "1999-01-01      563.540187\n",
       "1965-01-01      161.835917\n",
       "1963-01-01      148.734470\n",
       "1973-01-01      451.912282"
      ]
     },
     "execution_count": 139,
     "metadata": {},
     "output_type": "execute_result"
    }
   ],
   "source": [
    "consume_df = pd.read_csv(\"00_source_data/MER_T01_03.csv\")\n",
    "# split the YYYYMM column into two columns\n",
    "consume_df[\"Year\"] = consume_df[\"YYYYMM\"].astype(str).str[:4]\n",
    "consume_df[\"Month\"] = consume_df[\"YYYYMM\"].astype(str).str[4:]\n",
    "# convert the year columns to datetime\n",
    "consume_df[\"Year\"] = pd.to_datetime(consume_df[\"Year\"], format=\"%Y\")\n",
    "# keep the Value and Year columns\n",
    "consume_df = consume_df[[\"Value\", \"Year\"]]\n",
    "# Rename the value column to energy_prod\n",
    "consume_df = consume_df.rename(columns={\"Value\": \"Energy_Consume\"})\n",
    "# drop the rows with Not Available\n",
    "consume_df = consume_df[consume_df[\"Energy_Consume\"] != \"Not Available\"]\n",
    "# convert Energy_Prod to a float\n",
    "consume_df[\"Energy_Consume\"] = consume_df[\"Energy_Consume\"].astype(float)\n",
    "# groupby year and sum the energy\n",
    "consume_df = consume_df.groupby(\"Year\").sum()\n",
    "\n",
    "consume_df.sample(10)\n"
   ]
  },
  {
   "cell_type": "markdown",
   "metadata": {},
   "source": [
    "#### Now we have the vehicle efficiency data"
   ]
  },
  {
   "cell_type": "code",
   "execution_count": 140,
   "metadata": {},
   "outputs": [
    {
     "data": {
      "text/html": [
       "<div>\n",
       "<style scoped>\n",
       "    .dataframe tbody tr th:only-of-type {\n",
       "        vertical-align: middle;\n",
       "    }\n",
       "\n",
       "    .dataframe tbody tr th {\n",
       "        vertical-align: top;\n",
       "    }\n",
       "\n",
       "    .dataframe thead th {\n",
       "        text-align: right;\n",
       "    }\n",
       "</style>\n",
       "<table border=\"1\" class=\"dataframe\">\n",
       "  <thead>\n",
       "    <tr style=\"text-align: right;\">\n",
       "      <th></th>\n",
       "      <th>Veh_MPG</th>\n",
       "    </tr>\n",
       "    <tr>\n",
       "      <th>Year</th>\n",
       "      <th></th>\n",
       "    </tr>\n",
       "  </thead>\n",
       "  <tbody>\n",
       "    <tr>\n",
       "      <th>1996-01-01</th>\n",
       "      <td>16.9</td>\n",
       "    </tr>\n",
       "    <tr>\n",
       "      <th>1951-01-01</th>\n",
       "      <td>12.9</td>\n",
       "    </tr>\n",
       "    <tr>\n",
       "      <th>1989-01-01</th>\n",
       "      <td>15.9</td>\n",
       "    </tr>\n",
       "    <tr>\n",
       "      <th>1982-01-01</th>\n",
       "      <td>14.1</td>\n",
       "    </tr>\n",
       "    <tr>\n",
       "      <th>1956-01-01</th>\n",
       "      <td>12.6</td>\n",
       "    </tr>\n",
       "    <tr>\n",
       "      <th>1963-01-01</th>\n",
       "      <td>12.5</td>\n",
       "    </tr>\n",
       "    <tr>\n",
       "      <th>1970-01-01</th>\n",
       "      <td>12.0</td>\n",
       "    </tr>\n",
       "    <tr>\n",
       "      <th>1976-01-01</th>\n",
       "      <td>12.1</td>\n",
       "    </tr>\n",
       "    <tr>\n",
       "      <th>1962-01-01</th>\n",
       "      <td>12.4</td>\n",
       "    </tr>\n",
       "    <tr>\n",
       "      <th>2010-01-01</th>\n",
       "      <td>17.4</td>\n",
       "    </tr>\n",
       "  </tbody>\n",
       "</table>\n",
       "</div>"
      ],
      "text/plain": [
       "            Veh_MPG\n",
       "Year               \n",
       "1996-01-01     16.9\n",
       "1951-01-01     12.9\n",
       "1989-01-01     15.9\n",
       "1982-01-01     14.1\n",
       "1956-01-01     12.6\n",
       "1963-01-01     12.5\n",
       "1970-01-01     12.0\n",
       "1976-01-01     12.1\n",
       "1962-01-01     12.4\n",
       "2010-01-01     17.4"
      ]
     },
     "execution_count": 140,
     "metadata": {},
     "output_type": "execute_result"
    }
   ],
   "source": [
    "veh_df = pd.read_csv(\"00_source_data/MER_T01_08.csv\")\n",
    "# subset for the rows where unit is Miles per Gallon\n",
    "veh_df = veh_df[veh_df[\"Unit\"] == \"Miles per Gallon\"]\n",
    "# split the YYYYMM column into two columns\n",
    "veh_df[\"Year\"] = veh_df[\"YYYYMM\"].astype(str).str[:4]\n",
    "veh_df[\"Month\"] = veh_df[\"YYYYMM\"].astype(str).str[4:]\n",
    "# convert the year column to datetime\n",
    "veh_df[\"Year\"] = pd.to_datetime(veh_df[\"Year\"], format=\"%Y\")\n",
    "# keep Descriptions where the value is All Motor Vehicles Fuel Economy\n",
    "veh_df = veh_df[veh_df[\"Description\"] == \"All Motor Vehicles Fuel Economy\"]\n",
    "# keep the Value and Year columns\n",
    "veh_df = veh_df[[\"Value\", \"Year\"]]\n",
    "# Rename the value column to Veh_MPG\n",
    "veh_df = veh_df.rename(columns={\"Value\": \"Veh_MPG\"})\n",
    "# convert Veh_MPG to a float\n",
    "veh_df[\"Veh_MPG\"] = veh_df[\"Veh_MPG\"].astype(float)\n",
    "# groupby year and take the mean\n",
    "veh_df = veh_df.groupby(\"Year\").mean()\n",
    "\n",
    "veh_df.sample(10)\n"
   ]
  },
  {
   "cell_type": "markdown",
   "metadata": {},
   "source": [
    "# Data Merging"
   ]
  },
  {
   "cell_type": "markdown",
   "metadata": {},
   "source": [
    "#### Now we merge data starting with the census"
   ]
  },
  {
   "cell_type": "code",
   "execution_count": 141,
   "metadata": {},
   "outputs": [
    {
     "data": {
      "text/plain": [
       "<AxesSubplot: xlabel='Year'>"
      ]
     },
     "execution_count": 141,
     "metadata": {},
     "output_type": "execute_result"
    },
    {
     "data": {
      "image/png": "[encoded data removed]",
      "text/plain": [
       "<Figure size 640x480 with 1 Axes>"
      ]
     },
     "metadata": {},
     "output_type": "display_data"
    }
   ],
   "source": [
    "# merge the census data with the empty dataframe\n",
    "merged_df = pd.merge(df, census_df, on=\"Year\", how=\"left\")\n",
    "# smooth the population column\n",
    "merged_df[\"Population\"] = merged_df[\"Population\"].interpolate()\n",
    "merged_df.plot(x=\"Year\", y=\"Population\")\n"
   ]
  },
  {
   "cell_type": "markdown",
   "metadata": {},
   "source": [
    "#### Now we add energy production data"
   ]
  },
  {
   "cell_type": "code",
   "execution_count": 142,
   "metadata": {},
   "outputs": [
    {
     "data": {
      "text/plain": [
       "<AxesSubplot: xlabel='Year'>"
      ]
     },
     "execution_count": 142,
     "metadata": {},
     "output_type": "execute_result"
    },
    {
     "data": {
      "image/png": "[encoded data removed]",
      "text/plain": [
       "<Figure size 640x480 with 1 Axes>"
      ]
     },
     "metadata": {},
     "output_type": "display_data"
    }
   ],
   "source": [
    "# merge the energy data with the merged dataframe\n",
    "merged_df2 = pd.merge(merged_df, energy_df, on=\"Year\", how=\"left\").copy()\n",
    "merged_df2.plot(x=\"Year\", y=\"Energy_Prod\")\n"
   ]
  },
  {
   "cell_type": "markdown",
   "metadata": {},
   "source": [
    "#### Now we add energy consumption data"
   ]
  },
  {
   "cell_type": "code",
   "execution_count": 143,
   "metadata": {},
   "outputs": [
    {
     "data": {
      "text/plain": [
       "<AxesSubplot: xlabel='Year'>"
      ]
     },
     "execution_count": 143,
     "metadata": {},
     "output_type": "execute_result"
    },
    {
     "data": {
      "image/png": "[encoded data removed]",
      "text/plain": [
       "<Figure size 640x480 with 1 Axes>"
      ]
     },
     "metadata": {},
     "output_type": "display_data"
    }
   ],
   "source": [
    "# merge with the consumption data\n",
    "merged_df3 = pd.merge(merged_df2, consume_df, on=\"Year\", how=\"left\").copy()\n",
    "merged_df3.plot(x=\"Year\", y=\"Energy_Consume\")\n"
   ]
  },
  {
   "cell_type": "markdown",
   "metadata": {},
   "source": [
    "#### The last merge will be the vehicle efficiency data"
   ]
  },
  {
   "cell_type": "code",
   "execution_count": 144,
   "metadata": {},
   "outputs": [
    {
     "data": {
      "text/plain": [
       "<AxesSubplot: xlabel='Year'>"
      ]
     },
     "execution_count": 144,
     "metadata": {},
     "output_type": "execute_result"
    },
    {
     "data": {
      "image/png": "[encoded data removed]",
      "text/plain": [
       "<Figure size 640x480 with 1 Axes>"
      ]
     },
     "metadata": {},
     "output_type": "display_data"
    }
   ],
   "source": [
    "# merge vehicle data\n",
    "merged_df4 = pd.merge(merged_df3, veh_df, on=\"Year\", how=\"left\").copy()\n",
    "merged_df4.plot(x=\"Year\", y=\"Veh_MPG\")\n"
   ]
  },
  {
   "cell_type": "markdown",
   "metadata": {},
   "source": [
    "# Output File as a CSV"
   ]
  },
  {
   "cell_type": "code",
   "execution_count": 146,
   "metadata": {},
   "outputs": [],
   "source": [
    "# save merged df4 to a csv in the 20_clean_data_directory\n",
    "merged_df4.to_csv(\"20_clean_data/merged_df4.csv\", index=False)\n"
   ]
  }
 ],
 "metadata": {
  "kernelspec": {
   "display_name": "Python 3.9.6 ('.venv': venv)",
   "language": "python",
   "name": "python3"
  },
  "language_info": {
   "codemirror_mode": {
    "name": "ipython",
    "version": 3
   },
   "file_extension": ".py",
   "mimetype": "text/x-python",
   "name": "python",
   "nbconvert_exporter": "python",
   "pygments_lexer": "ipython3",
   "version": "3.9.6"
  },
  "orig_nbformat": 4,
  "vscode": {
   "interpreter": {
    "hash": "6348038c22bbb1f5066bdf2baff95f32efff54813dc5babbc7f04290435957a2"
   }
  }
 },
 "nbformat": 4,
 "nbformat_minor": 2
}
